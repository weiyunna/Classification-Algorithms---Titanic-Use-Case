{
  "nbformat": 4,
  "nbformat_minor": 0,
  "metadata": {
    "colab": {
      "name": "An End-to-End-Data-Science-Framework",
      "version": "0.3.2",
      "provenance": [],
      "collapsed_sections": [],
      "toc_visible": true,
      "include_colab_link": true
    },
    "kernelspec": {
      "name": "python3",
      "display_name": "Python 3"
    }
  },
  "cells": [
    {
      "cell_type": "markdown",
      "metadata": {
        "id": "view-in-github",
        "colab_type": "text"
      },
      "source": [
        "<a href=\"https://colab.research.google.com/github/weiyunna/Classification-Algorithms---Titanic-Use-Case/blob/master/An_End_to_End_Data_Science_Framework.ipynb\" target=\"_parent\"><img src=\"https://colab.research.google.com/assets/colab-badge.svg\" alt=\"Open In Colab\"/></a>"
      ]
    },
    {
      "metadata": {
        "id": "ovuI2bZEo-Fb",
        "colab_type": "text"
      },
      "cell_type": "markdown",
      "source": [
        "# An End-to-End-Data-Science-Framework"
      ]
    },
    {
      "metadata": {
        "id": "z_pWeb2bo7es",
        "colab_type": "text"
      },
      "cell_type": "markdown",
      "source": [
        "The sinking of the RMS Titanic is one of the most infamous shipwrecks in history.  On April 15, 1912, during her maiden voyage, the Titanic sank after colliding with an iceberg, killing 1502 out of 2224 passengers and crew. This sensational tragedy shocked the international community and led to better safety regulations for ships.\n",
        "\n",
        "One of the reasons that the shipwreck led to such loss of life was that there were not enough lifeboats for the passengers and crew. Although there was some element of luck involved in surviving the sinking, some groups of people were more likely to survive than others, such as women, children, and the upper-class.\n",
        "\n",
        "In this challenge, we ask you to complete the analysis of what sorts of people were likely to survive. In particular, we ask you to apply the tools of machine learning to predict which passengers survived the tragedy."
      ]
    },
    {
      "metadata": {
        "id": "hN0z8VZrpM1j",
        "colab_type": "text"
      },
      "cell_type": "markdown",
      "source": [
        "## Import libraries "
      ]
    },
    {
      "metadata": {
        "id": "jaEqc1H1psSb",
        "colab_type": "text"
      },
      "cell_type": "markdown",
      "source": [
        "The following code is written in Python 3.x. Libraries provide pre-written functionality to perform necessary tasks. The idea is why write ten lines of code, when you can write one line."
      ]
    },
    {
      "metadata": {
        "id": "JK5oSaACp2YM",
        "colab_type": "code",
        "colab": {
          "base_uri": "https://localhost:8080/",
          "height": 50
        },
        "outputId": "6ccd139e-d3e3-48c7-830b-b49b095da35b"
      },
      "cell_type": "code",
      "source": [
        "#load packages\n",
        "import sys #access to system parameters https://docs.python.org/3/library/sys.html\n",
        "print(\"Python version: {}\". format(sys.version))\n"
      ],
      "execution_count": 1,
      "outputs": [
        {
          "output_type": "stream",
          "text": [
            "Python version: 3.6.7 (default, Oct 22 2018, 11:32:17) \n",
            "[GCC 8.2.0]\n"
          ],
          "name": "stdout"
        }
      ]
    },
    {
      "metadata": {
        "id": "Uq6uwBSRp-jG",
        "colab_type": "code",
        "colab": {
          "base_uri": "https://localhost:8080/",
          "height": 34
        },
        "outputId": "d45d4077-c3d5-4e32-e15a-6111dff8fa49"
      },
      "cell_type": "code",
      "source": [
        "import pandas as pd #collection of functions for data processing and analysis modeled after R dataframes with SQL like features\n",
        "print(\"pandas version: {}\". format(pd.__version__))"
      ],
      "execution_count": 2,
      "outputs": [
        {
          "output_type": "stream",
          "text": [
            "pandas version: 0.22.0\n"
          ],
          "name": "stdout"
        }
      ]
    },
    {
      "metadata": {
        "id": "IgAGqX1oqDBb",
        "colab_type": "code",
        "colab": {
          "base_uri": "https://localhost:8080/",
          "height": 34
        },
        "outputId": "512765ba-8da8-4dd3-ffd8-3d36a815985d"
      },
      "cell_type": "code",
      "source": [
        "import matplotlib #collection of functions for scientific and publication-ready visualization\n",
        "print(\"matplotlib version: {}\". format(matplotlib.__version__))"
      ],
      "execution_count": 3,
      "outputs": [
        {
          "output_type": "stream",
          "text": [
            "matplotlib version: 3.0.3\n"
          ],
          "name": "stdout"
        }
      ]
    },
    {
      "metadata": {
        "id": "a1rNPzFDqIrp",
        "colab_type": "code",
        "colab": {
          "base_uri": "https://localhost:8080/",
          "height": 34
        },
        "outputId": "05edca9a-d8c8-4f24-f2bc-89bbd36e1db0"
      },
      "cell_type": "code",
      "source": [
        "import numpy as np #foundational package for scientific computing\n",
        "print(\"NumPy version: {}\". format(np.__version__))"
      ],
      "execution_count": 4,
      "outputs": [
        {
          "output_type": "stream",
          "text": [
            "NumPy version: 1.14.6\n"
          ],
          "name": "stdout"
        }
      ]
    },
    {
      "metadata": {
        "id": "9JjCM6DxqNlK",
        "colab_type": "code",
        "colab": {
          "base_uri": "https://localhost:8080/",
          "height": 34
        },
        "outputId": "008c1020-34f1-4d18-ea3c-45481df5d4a3"
      },
      "cell_type": "code",
      "source": [
        "import scipy as sp #collection of functions for scientific computing and advance mathematics\n",
        "print(\"SciPy version: {}\". format(sp.__version__)) "
      ],
      "execution_count": 5,
      "outputs": [
        {
          "output_type": "stream",
          "text": [
            "SciPy version: 1.1.0\n"
          ],
          "name": "stdout"
        }
      ]
    },
    {
      "metadata": {
        "id": "grjZUv0FqRTr",
        "colab_type": "code",
        "colab": {
          "base_uri": "https://localhost:8080/",
          "height": 34
        },
        "outputId": "44aa2511-7156-4267-9eb1-d19a8230e2d3"
      },
      "cell_type": "code",
      "source": [
        "import IPython\n",
        "from IPython import display #pretty printing of dataframes in Jupyter notebook\n",
        "print(\"IPython version: {}\". format(IPython.__version__)) "
      ],
      "execution_count": 6,
      "outputs": [
        {
          "output_type": "stream",
          "text": [
            "IPython version: 5.5.0\n"
          ],
          "name": "stdout"
        }
      ]
    },
    {
      "metadata": {
        "id": "z29UwqrRqT1L",
        "colab_type": "code",
        "colab": {
          "base_uri": "https://localhost:8080/",
          "height": 34
        },
        "outputId": "5831b6a3-2bd0-443b-bd60-e10a889131cb"
      },
      "cell_type": "code",
      "source": [
        "import sklearn #collection of machine learning algorithms\n",
        "print(\"scikit-learn version: {}\". format(sklearn.__version__))"
      ],
      "execution_count": 7,
      "outputs": [
        {
          "output_type": "stream",
          "text": [
            "scikit-learn version: 0.20.3\n"
          ],
          "name": "stdout"
        }
      ]
    },
    {
      "metadata": {
        "id": "Yfa9wqv2qY0C",
        "colab_type": "code",
        "colab": {}
      },
      "cell_type": "code",
      "source": [
        "#misc libraries\n",
        "import random\n",
        "import time"
      ],
      "execution_count": 0,
      "outputs": []
    },
    {
      "metadata": {
        "id": "TiYHoFXjqcXL",
        "colab_type": "code",
        "colab": {
          "base_uri": "https://localhost:8080/",
          "height": 34
        },
        "outputId": "d45d0954-23f3-47a0-d7b0-5f232256000d"
      },
      "cell_type": "code",
      "source": [
        "#ignore warnings\n",
        "import warnings\n",
        "warnings.filterwarnings('ignore')\n",
        "print('-'*25)"
      ],
      "execution_count": 9,
      "outputs": [
        {
          "output_type": "stream",
          "text": [
            "-------------------------\n"
          ],
          "name": "stdout"
        }
      ]
    },
    {
      "metadata": {
        "id": "pvxaG7iIqliL",
        "colab_type": "code",
        "colab": {}
      },
      "cell_type": "code",
      "source": [
        "# Input data files are available in the \"../input/\" directory.\n",
        "# For example, running this (by clicking run or pressing Shift+Enter) will list the files in the input directory\n",
        "\n",
        "from subprocess import check_output\n",
        "#print(check_output([\"ls\", \"../input\"]).decode(\"utf8\"))\n",
        "\n",
        "# Any results you write to the current directory are saved as output."
      ],
      "execution_count": 0,
      "outputs": []
    },
    {
      "metadata": {
        "id": "p6P5SPLdq4hS",
        "colab_type": "text"
      },
      "cell_type": "markdown",
      "source": [
        "## Load Data Modelling Libraries"
      ]
    },
    {
      "metadata": {
        "id": "cowxzkQwo9g-",
        "colab_type": "code",
        "colab": {}
      },
      "cell_type": "code",
      "source": [
        "#Common Model Algorithms\n",
        "from sklearn import svm, tree, linear_model, neighbors, naive_bayes, ensemble, discriminant_analysis, gaussian_process\n",
        "from xgboost import XGBClassifier"
      ],
      "execution_count": 0,
      "outputs": []
    },
    {
      "metadata": {
        "id": "LaZcmqHgrOPw",
        "colab_type": "code",
        "colab": {}
      },
      "cell_type": "code",
      "source": [
        "#Common Model Helpers\n",
        "from sklearn.preprocessing import OneHotEncoder, LabelEncoder\n",
        "from sklearn import feature_selection\n",
        "from sklearn import model_selection\n",
        "from sklearn import metrics"
      ],
      "execution_count": 0,
      "outputs": []
    },
    {
      "metadata": {
        "id": "mnTm-B_xrTL-",
        "colab_type": "code",
        "colab": {}
      },
      "cell_type": "code",
      "source": [
        "#Visualization\n",
        "import matplotlib as mpl\n",
        "import matplotlib.pyplot as plt\n",
        "import matplotlib.pylab as pylab\n",
        "import seaborn as sns\n",
        "from pandas.tools.plotting import scatter_matrix"
      ],
      "execution_count": 0,
      "outputs": []
    },
    {
      "metadata": {
        "id": "YLcIU-X3rWEQ",
        "colab_type": "code",
        "colab": {}
      },
      "cell_type": "code",
      "source": [
        "#Configure Visualization Defaults\n",
        "#%matplotlib inline = show plots in Jupyter Notebook browser\n",
        "%matplotlib inline\n",
        "mpl.style.use('ggplot')\n",
        "sns.set_style('white')\n",
        "pylab.rcParams['figure.figsize'] = 12,8"
      ],
      "execution_count": 0,
      "outputs": []
    },
    {
      "metadata": {
        "id": "whtQKs4erfOX",
        "colab_type": "text"
      },
      "cell_type": "markdown",
      "source": [
        "## Meet and Greet Data"
      ]
    },
    {
      "metadata": {
        "id": "hBCYR7fCrari",
        "colab_type": "code",
        "colab": {}
      },
      "cell_type": "code",
      "source": [
        "data_raw = pd.read_csv('train.csv')"
      ],
      "execution_count": 0,
      "outputs": []
    },
    {
      "metadata": {
        "id": "qWGHE-Y3r-vA",
        "colab_type": "code",
        "colab": {}
      },
      "cell_type": "code",
      "source": [
        "data_val  = pd.read_csv('test.csv')"
      ],
      "execution_count": 0,
      "outputs": []
    },
    {
      "metadata": {
        "id": "4wDvcCPqsTZv",
        "colab_type": "code",
        "colab": {}
      },
      "cell_type": "code",
      "source": [
        "data1 = data_raw.copy(deep = True)"
      ],
      "execution_count": 0,
      "outputs": []
    },
    {
      "metadata": {
        "id": "72uXEbEhsbe0",
        "colab_type": "code",
        "colab": {}
      },
      "cell_type": "code",
      "source": [
        "data_cleaner = [data1, data_val]"
      ],
      "execution_count": 0,
      "outputs": []
    },
    {
      "metadata": {
        "id": "LhWxYuMkserH",
        "colab_type": "code",
        "colab": {
          "base_uri": "https://localhost:8080/",
          "height": 679
        },
        "outputId": "adc0259a-43cb-4506-bbed-20b104f9ecc2"
      },
      "cell_type": "code",
      "source": [
        "#preview data\n",
        "print (data_raw.info()) #https://pandas.pydata.org/pandas-docs/stable/generated/pandas.DataFrame.info.html\n",
        "data_raw.head() #https://pandas.pydata.org/pandas-docs/stable/generated/pandas.DataFrame.head.html\n",
        "data_raw.tail() #https://pandas.pydata.org/pandas-docs/stable/generated/pandas.DataFrame.tail.html\n",
        "data_raw.sample(10)"
      ],
      "execution_count": 22,
      "outputs": [
        {
          "output_type": "stream",
          "text": [
            "<class 'pandas.core.frame.DataFrame'>\n",
            "RangeIndex: 891 entries, 0 to 890\n",
            "Data columns (total 12 columns):\n",
            "PassengerId    891 non-null int64\n",
            "Survived       891 non-null int64\n",
            "Pclass         891 non-null int64\n",
            "Name           891 non-null object\n",
            "Sex            891 non-null object\n",
            "Age            714 non-null float64\n",
            "SibSp          891 non-null int64\n",
            "Parch          891 non-null int64\n",
            "Ticket         891 non-null object\n",
            "Fare           891 non-null float64\n",
            "Cabin          204 non-null object\n",
            "Embarked       889 non-null object\n",
            "dtypes: float64(2), int64(5), object(5)\n",
            "memory usage: 83.6+ KB\n",
            "None\n"
          ],
          "name": "stdout"
        },
        {
          "output_type": "execute_result",
          "data": {
            "text/html": [
              "<div>\n",
              "<style scoped>\n",
              "    .dataframe tbody tr th:only-of-type {\n",
              "        vertical-align: middle;\n",
              "    }\n",
              "\n",
              "    .dataframe tbody tr th {\n",
              "        vertical-align: top;\n",
              "    }\n",
              "\n",
              "    .dataframe thead th {\n",
              "        text-align: right;\n",
              "    }\n",
              "</style>\n",
              "<table border=\"1\" class=\"dataframe\">\n",
              "  <thead>\n",
              "    <tr style=\"text-align: right;\">\n",
              "      <th></th>\n",
              "      <th>PassengerId</th>\n",
              "      <th>Survived</th>\n",
              "      <th>Pclass</th>\n",
              "      <th>Name</th>\n",
              "      <th>Sex</th>\n",
              "      <th>Age</th>\n",
              "      <th>SibSp</th>\n",
              "      <th>Parch</th>\n",
              "      <th>Ticket</th>\n",
              "      <th>Fare</th>\n",
              "      <th>Cabin</th>\n",
              "      <th>Embarked</th>\n",
              "    </tr>\n",
              "  </thead>\n",
              "  <tbody>\n",
              "    <tr>\n",
              "      <th>526</th>\n",
              "      <td>527</td>\n",
              "      <td>1</td>\n",
              "      <td>2</td>\n",
              "      <td>Ridsdale, Miss. Lucy</td>\n",
              "      <td>female</td>\n",
              "      <td>50.0</td>\n",
              "      <td>0</td>\n",
              "      <td>0</td>\n",
              "      <td>W./C. 14258</td>\n",
              "      <td>10.500</td>\n",
              "      <td>NaN</td>\n",
              "      <td>S</td>\n",
              "    </tr>\n",
              "    <tr>\n",
              "      <th>106</th>\n",
              "      <td>107</td>\n",
              "      <td>1</td>\n",
              "      <td>3</td>\n",
              "      <td>Salkjelsvik, Miss. Anna Kristine</td>\n",
              "      <td>female</td>\n",
              "      <td>21.0</td>\n",
              "      <td>0</td>\n",
              "      <td>0</td>\n",
              "      <td>343120</td>\n",
              "      <td>7.650</td>\n",
              "      <td>NaN</td>\n",
              "      <td>S</td>\n",
              "    </tr>\n",
              "    <tr>\n",
              "      <th>121</th>\n",
              "      <td>122</td>\n",
              "      <td>0</td>\n",
              "      <td>3</td>\n",
              "      <td>Moore, Mr. Leonard Charles</td>\n",
              "      <td>male</td>\n",
              "      <td>NaN</td>\n",
              "      <td>0</td>\n",
              "      <td>0</td>\n",
              "      <td>A4. 54510</td>\n",
              "      <td>8.050</td>\n",
              "      <td>NaN</td>\n",
              "      <td>S</td>\n",
              "    </tr>\n",
              "    <tr>\n",
              "      <th>357</th>\n",
              "      <td>358</td>\n",
              "      <td>0</td>\n",
              "      <td>2</td>\n",
              "      <td>Funk, Miss. Annie Clemmer</td>\n",
              "      <td>female</td>\n",
              "      <td>38.0</td>\n",
              "      <td>0</td>\n",
              "      <td>0</td>\n",
              "      <td>237671</td>\n",
              "      <td>13.000</td>\n",
              "      <td>NaN</td>\n",
              "      <td>S</td>\n",
              "    </tr>\n",
              "    <tr>\n",
              "      <th>157</th>\n",
              "      <td>158</td>\n",
              "      <td>0</td>\n",
              "      <td>3</td>\n",
              "      <td>Corn, Mr. Harry</td>\n",
              "      <td>male</td>\n",
              "      <td>30.0</td>\n",
              "      <td>0</td>\n",
              "      <td>0</td>\n",
              "      <td>SOTON/OQ 392090</td>\n",
              "      <td>8.050</td>\n",
              "      <td>NaN</td>\n",
              "      <td>S</td>\n",
              "    </tr>\n",
              "    <tr>\n",
              "      <th>12</th>\n",
              "      <td>13</td>\n",
              "      <td>0</td>\n",
              "      <td>3</td>\n",
              "      <td>Saundercock, Mr. William Henry</td>\n",
              "      <td>male</td>\n",
              "      <td>20.0</td>\n",
              "      <td>0</td>\n",
              "      <td>0</td>\n",
              "      <td>A/5. 2151</td>\n",
              "      <td>8.050</td>\n",
              "      <td>NaN</td>\n",
              "      <td>S</td>\n",
              "    </tr>\n",
              "    <tr>\n",
              "      <th>799</th>\n",
              "      <td>800</td>\n",
              "      <td>0</td>\n",
              "      <td>3</td>\n",
              "      <td>Van Impe, Mrs. Jean Baptiste (Rosalie Paula Go...</td>\n",
              "      <td>female</td>\n",
              "      <td>30.0</td>\n",
              "      <td>1</td>\n",
              "      <td>1</td>\n",
              "      <td>345773</td>\n",
              "      <td>24.150</td>\n",
              "      <td>NaN</td>\n",
              "      <td>S</td>\n",
              "    </tr>\n",
              "    <tr>\n",
              "      <th>379</th>\n",
              "      <td>380</td>\n",
              "      <td>0</td>\n",
              "      <td>3</td>\n",
              "      <td>Gustafsson, Mr. Karl Gideon</td>\n",
              "      <td>male</td>\n",
              "      <td>19.0</td>\n",
              "      <td>0</td>\n",
              "      <td>0</td>\n",
              "      <td>347069</td>\n",
              "      <td>7.775</td>\n",
              "      <td>NaN</td>\n",
              "      <td>S</td>\n",
              "    </tr>\n",
              "    <tr>\n",
              "      <th>353</th>\n",
              "      <td>354</td>\n",
              "      <td>0</td>\n",
              "      <td>3</td>\n",
              "      <td>Arnold-Franchi, Mr. Josef</td>\n",
              "      <td>male</td>\n",
              "      <td>25.0</td>\n",
              "      <td>1</td>\n",
              "      <td>0</td>\n",
              "      <td>349237</td>\n",
              "      <td>17.800</td>\n",
              "      <td>NaN</td>\n",
              "      <td>S</td>\n",
              "    </tr>\n",
              "    <tr>\n",
              "      <th>637</th>\n",
              "      <td>638</td>\n",
              "      <td>0</td>\n",
              "      <td>2</td>\n",
              "      <td>Collyer, Mr. Harvey</td>\n",
              "      <td>male</td>\n",
              "      <td>31.0</td>\n",
              "      <td>1</td>\n",
              "      <td>1</td>\n",
              "      <td>C.A. 31921</td>\n",
              "      <td>26.250</td>\n",
              "      <td>NaN</td>\n",
              "      <td>S</td>\n",
              "    </tr>\n",
              "  </tbody>\n",
              "</table>\n",
              "</div>"
            ],
            "text/plain": [
              "     PassengerId  Survived  Pclass  \\\n",
              "526          527         1       2   \n",
              "106          107         1       3   \n",
              "121          122         0       3   \n",
              "357          358         0       2   \n",
              "157          158         0       3   \n",
              "12            13         0       3   \n",
              "799          800         0       3   \n",
              "379          380         0       3   \n",
              "353          354         0       3   \n",
              "637          638         0       2   \n",
              "\n",
              "                                                  Name     Sex   Age  SibSp  \\\n",
              "526                               Ridsdale, Miss. Lucy  female  50.0      0   \n",
              "106                   Salkjelsvik, Miss. Anna Kristine  female  21.0      0   \n",
              "121                         Moore, Mr. Leonard Charles    male   NaN      0   \n",
              "357                          Funk, Miss. Annie Clemmer  female  38.0      0   \n",
              "157                                    Corn, Mr. Harry    male  30.0      0   \n",
              "12                      Saundercock, Mr. William Henry    male  20.0      0   \n",
              "799  Van Impe, Mrs. Jean Baptiste (Rosalie Paula Go...  female  30.0      1   \n",
              "379                        Gustafsson, Mr. Karl Gideon    male  19.0      0   \n",
              "353                          Arnold-Franchi, Mr. Josef    male  25.0      1   \n",
              "637                                Collyer, Mr. Harvey    male  31.0      1   \n",
              "\n",
              "     Parch           Ticket    Fare Cabin Embarked  \n",
              "526      0      W./C. 14258  10.500   NaN        S  \n",
              "106      0           343120   7.650   NaN        S  \n",
              "121      0        A4. 54510   8.050   NaN        S  \n",
              "357      0           237671  13.000   NaN        S  \n",
              "157      0  SOTON/OQ 392090   8.050   NaN        S  \n",
              "12       0        A/5. 2151   8.050   NaN        S  \n",
              "799      1           345773  24.150   NaN        S  \n",
              "379      0           347069   7.775   NaN        S  \n",
              "353      0           349237  17.800   NaN        S  \n",
              "637      1       C.A. 31921  26.250   NaN        S  "
            ]
          },
          "metadata": {
            "tags": []
          },
          "execution_count": 22
        }
      ]
    },
    {
      "metadata": {
        "id": "hvRZvxlDs7UN",
        "colab_type": "text"
      },
      "cell_type": "markdown",
      "source": [
        "## Data Cleaning\n",
        "\n",
        "The 4 C's of Data Cleaning: Correcting, Completing, Creating, and Converting"
      ]
    },
    {
      "metadata": {
        "id": "0G5hdepmsoX9",
        "colab_type": "code",
        "colab": {
          "base_uri": "https://localhost:8080/",
          "height": 894
        },
        "outputId": "ab413e9e-d98e-4da3-bf23-94f7818a0349"
      },
      "cell_type": "code",
      "source": [
        "print('Train columns with null values:\\n', data1.isnull().sum())\n",
        "print(\"-\"*10)\n",
        "\n",
        "print('Test/Validation columns with null values:\\n', data_val.isnull().sum())\n",
        "print(\"-\"*10)\n",
        "\n",
        "data_raw.describe(include = 'all')"
      ],
      "execution_count": 23,
      "outputs": [
        {
          "output_type": "stream",
          "text": [
            "Train columns with null values:\n",
            " PassengerId      0\n",
            "Survived         0\n",
            "Pclass           0\n",
            "Name             0\n",
            "Sex              0\n",
            "Age            177\n",
            "SibSp            0\n",
            "Parch            0\n",
            "Ticket           0\n",
            "Fare             0\n",
            "Cabin          687\n",
            "Embarked         2\n",
            "dtype: int64\n",
            "----------\n",
            "Test/Validation columns with null values:\n",
            " PassengerId      0\n",
            "Pclass           0\n",
            "Name             0\n",
            "Sex              0\n",
            "Age             86\n",
            "SibSp            0\n",
            "Parch            0\n",
            "Ticket           0\n",
            "Fare             1\n",
            "Cabin          327\n",
            "Embarked         0\n",
            "dtype: int64\n",
            "----------\n"
          ],
          "name": "stdout"
        },
        {
          "output_type": "execute_result",
          "data": {
            "text/html": [
              "<div>\n",
              "<style scoped>\n",
              "    .dataframe tbody tr th:only-of-type {\n",
              "        vertical-align: middle;\n",
              "    }\n",
              "\n",
              "    .dataframe tbody tr th {\n",
              "        vertical-align: top;\n",
              "    }\n",
              "\n",
              "    .dataframe thead th {\n",
              "        text-align: right;\n",
              "    }\n",
              "</style>\n",
              "<table border=\"1\" class=\"dataframe\">\n",
              "  <thead>\n",
              "    <tr style=\"text-align: right;\">\n",
              "      <th></th>\n",
              "      <th>PassengerId</th>\n",
              "      <th>Survived</th>\n",
              "      <th>Pclass</th>\n",
              "      <th>Name</th>\n",
              "      <th>Sex</th>\n",
              "      <th>Age</th>\n",
              "      <th>SibSp</th>\n",
              "      <th>Parch</th>\n",
              "      <th>Ticket</th>\n",
              "      <th>Fare</th>\n",
              "      <th>Cabin</th>\n",
              "      <th>Embarked</th>\n",
              "    </tr>\n",
              "  </thead>\n",
              "  <tbody>\n",
              "    <tr>\n",
              "      <th>count</th>\n",
              "      <td>891.000000</td>\n",
              "      <td>891.000000</td>\n",
              "      <td>891.000000</td>\n",
              "      <td>891</td>\n",
              "      <td>891</td>\n",
              "      <td>714.000000</td>\n",
              "      <td>891.000000</td>\n",
              "      <td>891.000000</td>\n",
              "      <td>891</td>\n",
              "      <td>891.000000</td>\n",
              "      <td>204</td>\n",
              "      <td>889</td>\n",
              "    </tr>\n",
              "    <tr>\n",
              "      <th>unique</th>\n",
              "      <td>NaN</td>\n",
              "      <td>NaN</td>\n",
              "      <td>NaN</td>\n",
              "      <td>891</td>\n",
              "      <td>2</td>\n",
              "      <td>NaN</td>\n",
              "      <td>NaN</td>\n",
              "      <td>NaN</td>\n",
              "      <td>681</td>\n",
              "      <td>NaN</td>\n",
              "      <td>147</td>\n",
              "      <td>3</td>\n",
              "    </tr>\n",
              "    <tr>\n",
              "      <th>top</th>\n",
              "      <td>NaN</td>\n",
              "      <td>NaN</td>\n",
              "      <td>NaN</td>\n",
              "      <td>Lahtinen, Mrs. William (Anna Sylfven)</td>\n",
              "      <td>male</td>\n",
              "      <td>NaN</td>\n",
              "      <td>NaN</td>\n",
              "      <td>NaN</td>\n",
              "      <td>1601</td>\n",
              "      <td>NaN</td>\n",
              "      <td>G6</td>\n",
              "      <td>S</td>\n",
              "    </tr>\n",
              "    <tr>\n",
              "      <th>freq</th>\n",
              "      <td>NaN</td>\n",
              "      <td>NaN</td>\n",
              "      <td>NaN</td>\n",
              "      <td>1</td>\n",
              "      <td>577</td>\n",
              "      <td>NaN</td>\n",
              "      <td>NaN</td>\n",
              "      <td>NaN</td>\n",
              "      <td>7</td>\n",
              "      <td>NaN</td>\n",
              "      <td>4</td>\n",
              "      <td>644</td>\n",
              "    </tr>\n",
              "    <tr>\n",
              "      <th>mean</th>\n",
              "      <td>446.000000</td>\n",
              "      <td>0.383838</td>\n",
              "      <td>2.308642</td>\n",
              "      <td>NaN</td>\n",
              "      <td>NaN</td>\n",
              "      <td>29.699118</td>\n",
              "      <td>0.523008</td>\n",
              "      <td>0.381594</td>\n",
              "      <td>NaN</td>\n",
              "      <td>32.204208</td>\n",
              "      <td>NaN</td>\n",
              "      <td>NaN</td>\n",
              "    </tr>\n",
              "    <tr>\n",
              "      <th>std</th>\n",
              "      <td>257.353842</td>\n",
              "      <td>0.486592</td>\n",
              "      <td>0.836071</td>\n",
              "      <td>NaN</td>\n",
              "      <td>NaN</td>\n",
              "      <td>14.526497</td>\n",
              "      <td>1.102743</td>\n",
              "      <td>0.806057</td>\n",
              "      <td>NaN</td>\n",
              "      <td>49.693429</td>\n",
              "      <td>NaN</td>\n",
              "      <td>NaN</td>\n",
              "    </tr>\n",
              "    <tr>\n",
              "      <th>min</th>\n",
              "      <td>1.000000</td>\n",
              "      <td>0.000000</td>\n",
              "      <td>1.000000</td>\n",
              "      <td>NaN</td>\n",
              "      <td>NaN</td>\n",
              "      <td>0.420000</td>\n",
              "      <td>0.000000</td>\n",
              "      <td>0.000000</td>\n",
              "      <td>NaN</td>\n",
              "      <td>0.000000</td>\n",
              "      <td>NaN</td>\n",
              "      <td>NaN</td>\n",
              "    </tr>\n",
              "    <tr>\n",
              "      <th>25%</th>\n",
              "      <td>223.500000</td>\n",
              "      <td>0.000000</td>\n",
              "      <td>2.000000</td>\n",
              "      <td>NaN</td>\n",
              "      <td>NaN</td>\n",
              "      <td>20.125000</td>\n",
              "      <td>0.000000</td>\n",
              "      <td>0.000000</td>\n",
              "      <td>NaN</td>\n",
              "      <td>7.910400</td>\n",
              "      <td>NaN</td>\n",
              "      <td>NaN</td>\n",
              "    </tr>\n",
              "    <tr>\n",
              "      <th>50%</th>\n",
              "      <td>446.000000</td>\n",
              "      <td>0.000000</td>\n",
              "      <td>3.000000</td>\n",
              "      <td>NaN</td>\n",
              "      <td>NaN</td>\n",
              "      <td>28.000000</td>\n",
              "      <td>0.000000</td>\n",
              "      <td>0.000000</td>\n",
              "      <td>NaN</td>\n",
              "      <td>14.454200</td>\n",
              "      <td>NaN</td>\n",
              "      <td>NaN</td>\n",
              "    </tr>\n",
              "    <tr>\n",
              "      <th>75%</th>\n",
              "      <td>668.500000</td>\n",
              "      <td>1.000000</td>\n",
              "      <td>3.000000</td>\n",
              "      <td>NaN</td>\n",
              "      <td>NaN</td>\n",
              "      <td>38.000000</td>\n",
              "      <td>1.000000</td>\n",
              "      <td>0.000000</td>\n",
              "      <td>NaN</td>\n",
              "      <td>31.000000</td>\n",
              "      <td>NaN</td>\n",
              "      <td>NaN</td>\n",
              "    </tr>\n",
              "    <tr>\n",
              "      <th>max</th>\n",
              "      <td>891.000000</td>\n",
              "      <td>1.000000</td>\n",
              "      <td>3.000000</td>\n",
              "      <td>NaN</td>\n",
              "      <td>NaN</td>\n",
              "      <td>80.000000</td>\n",
              "      <td>8.000000</td>\n",
              "      <td>6.000000</td>\n",
              "      <td>NaN</td>\n",
              "      <td>512.329200</td>\n",
              "      <td>NaN</td>\n",
              "      <td>NaN</td>\n",
              "    </tr>\n",
              "  </tbody>\n",
              "</table>\n",
              "</div>"
            ],
            "text/plain": [
              "        PassengerId    Survived      Pclass  \\\n",
              "count    891.000000  891.000000  891.000000   \n",
              "unique          NaN         NaN         NaN   \n",
              "top             NaN         NaN         NaN   \n",
              "freq            NaN         NaN         NaN   \n",
              "mean     446.000000    0.383838    2.308642   \n",
              "std      257.353842    0.486592    0.836071   \n",
              "min        1.000000    0.000000    1.000000   \n",
              "25%      223.500000    0.000000    2.000000   \n",
              "50%      446.000000    0.000000    3.000000   \n",
              "75%      668.500000    1.000000    3.000000   \n",
              "max      891.000000    1.000000    3.000000   \n",
              "\n",
              "                                         Name   Sex         Age       SibSp  \\\n",
              "count                                     891   891  714.000000  891.000000   \n",
              "unique                                    891     2         NaN         NaN   \n",
              "top     Lahtinen, Mrs. William (Anna Sylfven)  male         NaN         NaN   \n",
              "freq                                        1   577         NaN         NaN   \n",
              "mean                                      NaN   NaN   29.699118    0.523008   \n",
              "std                                       NaN   NaN   14.526497    1.102743   \n",
              "min                                       NaN   NaN    0.420000    0.000000   \n",
              "25%                                       NaN   NaN   20.125000    0.000000   \n",
              "50%                                       NaN   NaN   28.000000    0.000000   \n",
              "75%                                       NaN   NaN   38.000000    1.000000   \n",
              "max                                       NaN   NaN   80.000000    8.000000   \n",
              "\n",
              "             Parch Ticket        Fare Cabin Embarked  \n",
              "count   891.000000    891  891.000000   204      889  \n",
              "unique         NaN    681         NaN   147        3  \n",
              "top            NaN   1601         NaN    G6        S  \n",
              "freq           NaN      7         NaN     4      644  \n",
              "mean      0.381594    NaN   32.204208   NaN      NaN  \n",
              "std       0.806057    NaN   49.693429   NaN      NaN  \n",
              "min       0.000000    NaN    0.000000   NaN      NaN  \n",
              "25%       0.000000    NaN    7.910400   NaN      NaN  \n",
              "50%       0.000000    NaN   14.454200   NaN      NaN  \n",
              "75%       0.000000    NaN   31.000000   NaN      NaN  \n",
              "max       6.000000    NaN  512.329200   NaN      NaN  "
            ]
          },
          "metadata": {
            "tags": []
          },
          "execution_count": 23
        }
      ]
    },
    {
      "metadata": {
        "id": "cQkWM6P6t4K9",
        "colab_type": "text"
      },
      "cell_type": "markdown",
      "source": [
        "### Complete the data "
      ]
    },
    {
      "metadata": {
        "id": "xdBN_v8NtMEF",
        "colab_type": "code",
        "colab": {}
      },
      "cell_type": "code",
      "source": [
        "###COMPLETING: complete or delete missing values in train and test/validation dataset\n",
        "for dataset in data_cleaner:    \n",
        "    #complete missing age with median\n",
        "    dataset['Age'].fillna(dataset['Age'].median(), inplace = True)\n",
        "\n",
        "    #complete embarked with mode\n",
        "    dataset['Embarked'].fillna(dataset['Embarked'].mode()[0], inplace = True)\n",
        "\n",
        "    #complete missing fare with median\n",
        "    dataset['Fare'].fillna(dataset['Fare'].median(), inplace = True)"
      ],
      "execution_count": 0,
      "outputs": []
    },
    {
      "metadata": {
        "id": "eAoRVAawuH2Y",
        "colab_type": "code",
        "colab": {
          "base_uri": "https://localhost:8080/",
          "height": 403
        },
        "outputId": "f8c031e8-5563-417c-e046-1c5c08943e40"
      },
      "cell_type": "code",
      "source": [
        "#delete the cabin feature/column and others previously stated to exclude in train dataset\n",
        "drop_column = ['PassengerId','Cabin', 'Ticket']\n",
        "data1.drop(drop_column, axis=1, inplace = True)\n",
        "\n",
        "print(data1.isnull().sum())\n",
        "print(\"-\"*10)\n",
        "print(data_val.isnull().sum())"
      ],
      "execution_count": 25,
      "outputs": [
        {
          "output_type": "stream",
          "text": [
            "Survived    0\n",
            "Pclass      0\n",
            "Name        0\n",
            "Sex         0\n",
            "Age         0\n",
            "SibSp       0\n",
            "Parch       0\n",
            "Fare        0\n",
            "Embarked    0\n",
            "dtype: int64\n",
            "----------\n",
            "PassengerId      0\n",
            "Pclass           0\n",
            "Name             0\n",
            "Sex              0\n",
            "Age              0\n",
            "SibSp            0\n",
            "Parch            0\n",
            "Ticket           0\n",
            "Fare             0\n",
            "Cabin          327\n",
            "Embarked         0\n",
            "dtype: int64\n"
          ],
          "name": "stdout"
        }
      ]
    },
    {
      "metadata": {
        "id": "tr3ZR-bqvcJD",
        "colab_type": "text"
      },
      "cell_type": "markdown",
      "source": [
        "### Create and Feature Engineering"
      ]
    },
    {
      "metadata": {
        "id": "FLjJTimwubPa",
        "colab_type": "code",
        "colab": {}
      },
      "cell_type": "code",
      "source": [
        "###CREATE: Feature Engineering for train and test/validation dataset\n",
        "for dataset in data_cleaner:    \n",
        "    #Discrete variables\n",
        "    dataset['FamilySize'] = dataset ['SibSp'] + dataset['Parch'] + 1\n",
        "\n",
        "    dataset['IsAlone'] = 1 #initialize to yes/1 is alone\n",
        "    dataset['IsAlone'].loc[dataset['FamilySize'] > 1] = 0 # now update to no/0 if family size is greater than 1\n",
        "\n",
        "    #quick and dirty code split title from name: http://www.pythonforbeginners.com/dictionary/python-split\n",
        "    dataset['Title'] = dataset['Name'].str.split(\", \", expand=True)[1].str.split(\".\", expand=True)[0]\n",
        "\n",
        "\n",
        "    #Continuous variable bins; qcut vs cut: https://stackoverflow.com/questions/30211923/what-is-the-difference-between-pandas-qcut-and-pandas-cut\n",
        "    #Fare Bins/Buckets using qcut or frequency bins: https://pandas.pydata.org/pandas-docs/stable/generated/pandas.qcut.html\n",
        "    dataset['FareBin'] = pd.qcut(dataset['Fare'], 4)\n",
        "\n",
        "    #Age Bins/Buckets using cut or value bins: https://pandas.pydata.org/pandas-docs/stable/generated/pandas.cut.html\n",
        "    dataset['AgeBin'] = pd.cut(dataset['Age'].astype(int), 5)"
      ],
      "execution_count": 0,
      "outputs": []
    },
    {
      "metadata": {
        "id": "OVHumAI_vti0",
        "colab_type": "code",
        "colab": {
          "base_uri": "https://localhost:8080/",
          "height": 134
        },
        "outputId": "9cdb8b6c-f9e8-4591-fb20-af71de3cc92d"
      },
      "cell_type": "code",
      "source": [
        "#cleanup rare title names\n",
        "#print(data1['Title'].value_counts())\n",
        "stat_min = 10 #while small is arbitrary, we'll use the common minimum in statistics: http://nicholasjjackson.com/2012/03/08/sample-size-is-10-a-magic-number/\n",
        "title_names = (data1['Title'].value_counts() < stat_min) #this will create a true false series with title name as index\n",
        "\n",
        "#apply and lambda functions are quick and dirty code to find and replace with fewer lines of code: https://community.modeanalytics.com/python/tutorial/pandas-groupby-and-python-lambda-functions/\n",
        "data1['Title'] = data1['Title'].apply(lambda x: 'Misc' if title_names.loc[x] == True else x)\n",
        "print(data1['Title'].value_counts())\n",
        "print(\"-\"*10)"
      ],
      "execution_count": 27,
      "outputs": [
        {
          "output_type": "stream",
          "text": [
            "Mr        517\n",
            "Miss      182\n",
            "Mrs       125\n",
            "Master     40\n",
            "Misc       27\n",
            "Name: Title, dtype: int64\n",
            "----------\n"
          ],
          "name": "stdout"
        }
      ]
    },
    {
      "metadata": {
        "id": "pK8YEnL7v1ZY",
        "colab_type": "code",
        "colab": {
          "base_uri": "https://localhost:8080/",
          "height": 1183
        },
        "outputId": "3a0593c7-ba77-41a0-866e-d305b6593d21"
      },
      "cell_type": "code",
      "source": [
        "data1.info()\n",
        "data_val.info()\n",
        "data1.sample(10)"
      ],
      "execution_count": 28,
      "outputs": [
        {
          "output_type": "stream",
          "text": [
            "<class 'pandas.core.frame.DataFrame'>\n",
            "RangeIndex: 891 entries, 0 to 890\n",
            "Data columns (total 14 columns):\n",
            "Survived      891 non-null int64\n",
            "Pclass        891 non-null int64\n",
            "Name          891 non-null object\n",
            "Sex           891 non-null object\n",
            "Age           891 non-null float64\n",
            "SibSp         891 non-null int64\n",
            "Parch         891 non-null int64\n",
            "Fare          891 non-null float64\n",
            "Embarked      891 non-null object\n",
            "FamilySize    891 non-null int64\n",
            "IsAlone       891 non-null int64\n",
            "Title         891 non-null object\n",
            "FareBin       891 non-null category\n",
            "AgeBin        891 non-null category\n",
            "dtypes: category(2), float64(2), int64(6), object(4)\n",
            "memory usage: 85.5+ KB\n",
            "<class 'pandas.core.frame.DataFrame'>\n",
            "RangeIndex: 418 entries, 0 to 417\n",
            "Data columns (total 16 columns):\n",
            "PassengerId    418 non-null int64\n",
            "Pclass         418 non-null int64\n",
            "Name           418 non-null object\n",
            "Sex            418 non-null object\n",
            "Age            418 non-null float64\n",
            "SibSp          418 non-null int64\n",
            "Parch          418 non-null int64\n",
            "Ticket         418 non-null object\n",
            "Fare           418 non-null float64\n",
            "Cabin          91 non-null object\n",
            "Embarked       418 non-null object\n",
            "FamilySize     418 non-null int64\n",
            "IsAlone        418 non-null int64\n",
            "Title          418 non-null object\n",
            "FareBin        418 non-null category\n",
            "AgeBin         418 non-null category\n",
            "dtypes: category(2), float64(2), int64(6), object(6)\n",
            "memory usage: 46.8+ KB\n"
          ],
          "name": "stdout"
        },
        {
          "output_type": "execute_result",
          "data": {
            "text/html": [
              "<div>\n",
              "<style scoped>\n",
              "    .dataframe tbody tr th:only-of-type {\n",
              "        vertical-align: middle;\n",
              "    }\n",
              "\n",
              "    .dataframe tbody tr th {\n",
              "        vertical-align: top;\n",
              "    }\n",
              "\n",
              "    .dataframe thead th {\n",
              "        text-align: right;\n",
              "    }\n",
              "</style>\n",
              "<table border=\"1\" class=\"dataframe\">\n",
              "  <thead>\n",
              "    <tr style=\"text-align: right;\">\n",
              "      <th></th>\n",
              "      <th>Survived</th>\n",
              "      <th>Pclass</th>\n",
              "      <th>Name</th>\n",
              "      <th>Sex</th>\n",
              "      <th>Age</th>\n",
              "      <th>SibSp</th>\n",
              "      <th>Parch</th>\n",
              "      <th>Fare</th>\n",
              "      <th>Embarked</th>\n",
              "      <th>FamilySize</th>\n",
              "      <th>IsAlone</th>\n",
              "      <th>Title</th>\n",
              "      <th>FareBin</th>\n",
              "      <th>AgeBin</th>\n",
              "    </tr>\n",
              "  </thead>\n",
              "  <tbody>\n",
              "    <tr>\n",
              "      <th>727</th>\n",
              "      <td>1</td>\n",
              "      <td>3</td>\n",
              "      <td>Mannion, Miss. Margareth</td>\n",
              "      <td>female</td>\n",
              "      <td>28.0</td>\n",
              "      <td>0</td>\n",
              "      <td>0</td>\n",
              "      <td>7.7375</td>\n",
              "      <td>Q</td>\n",
              "      <td>1</td>\n",
              "      <td>1</td>\n",
              "      <td>Miss</td>\n",
              "      <td>(-0.001, 7.91]</td>\n",
              "      <td>(16.0, 32.0]</td>\n",
              "    </tr>\n",
              "    <tr>\n",
              "      <th>17</th>\n",
              "      <td>1</td>\n",
              "      <td>2</td>\n",
              "      <td>Williams, Mr. Charles Eugene</td>\n",
              "      <td>male</td>\n",
              "      <td>28.0</td>\n",
              "      <td>0</td>\n",
              "      <td>0</td>\n",
              "      <td>13.0000</td>\n",
              "      <td>S</td>\n",
              "      <td>1</td>\n",
              "      <td>1</td>\n",
              "      <td>Mr</td>\n",
              "      <td>(7.91, 14.454]</td>\n",
              "      <td>(16.0, 32.0]</td>\n",
              "    </tr>\n",
              "    <tr>\n",
              "      <th>797</th>\n",
              "      <td>1</td>\n",
              "      <td>3</td>\n",
              "      <td>Osman, Mrs. Mara</td>\n",
              "      <td>female</td>\n",
              "      <td>31.0</td>\n",
              "      <td>0</td>\n",
              "      <td>0</td>\n",
              "      <td>8.6833</td>\n",
              "      <td>S</td>\n",
              "      <td>1</td>\n",
              "      <td>1</td>\n",
              "      <td>Mrs</td>\n",
              "      <td>(7.91, 14.454]</td>\n",
              "      <td>(16.0, 32.0]</td>\n",
              "    </tr>\n",
              "    <tr>\n",
              "      <th>815</th>\n",
              "      <td>0</td>\n",
              "      <td>1</td>\n",
              "      <td>Fry, Mr. Richard</td>\n",
              "      <td>male</td>\n",
              "      <td>28.0</td>\n",
              "      <td>0</td>\n",
              "      <td>0</td>\n",
              "      <td>0.0000</td>\n",
              "      <td>S</td>\n",
              "      <td>1</td>\n",
              "      <td>1</td>\n",
              "      <td>Mr</td>\n",
              "      <td>(-0.001, 7.91]</td>\n",
              "      <td>(16.0, 32.0]</td>\n",
              "    </tr>\n",
              "    <tr>\n",
              "      <th>744</th>\n",
              "      <td>1</td>\n",
              "      <td>3</td>\n",
              "      <td>Stranden, Mr. Juho</td>\n",
              "      <td>male</td>\n",
              "      <td>31.0</td>\n",
              "      <td>0</td>\n",
              "      <td>0</td>\n",
              "      <td>7.9250</td>\n",
              "      <td>S</td>\n",
              "      <td>1</td>\n",
              "      <td>1</td>\n",
              "      <td>Mr</td>\n",
              "      <td>(7.91, 14.454]</td>\n",
              "      <td>(16.0, 32.0]</td>\n",
              "    </tr>\n",
              "    <tr>\n",
              "      <th>597</th>\n",
              "      <td>0</td>\n",
              "      <td>3</td>\n",
              "      <td>Johnson, Mr. Alfred</td>\n",
              "      <td>male</td>\n",
              "      <td>49.0</td>\n",
              "      <td>0</td>\n",
              "      <td>0</td>\n",
              "      <td>0.0000</td>\n",
              "      <td>S</td>\n",
              "      <td>1</td>\n",
              "      <td>1</td>\n",
              "      <td>Mr</td>\n",
              "      <td>(-0.001, 7.91]</td>\n",
              "      <td>(48.0, 64.0]</td>\n",
              "    </tr>\n",
              "    <tr>\n",
              "      <th>625</th>\n",
              "      <td>0</td>\n",
              "      <td>1</td>\n",
              "      <td>Sutton, Mr. Frederick</td>\n",
              "      <td>male</td>\n",
              "      <td>61.0</td>\n",
              "      <td>0</td>\n",
              "      <td>0</td>\n",
              "      <td>32.3208</td>\n",
              "      <td>S</td>\n",
              "      <td>1</td>\n",
              "      <td>1</td>\n",
              "      <td>Mr</td>\n",
              "      <td>(31.0, 512.329]</td>\n",
              "      <td>(48.0, 64.0]</td>\n",
              "    </tr>\n",
              "    <tr>\n",
              "      <th>748</th>\n",
              "      <td>0</td>\n",
              "      <td>1</td>\n",
              "      <td>Marvin, Mr. Daniel Warner</td>\n",
              "      <td>male</td>\n",
              "      <td>19.0</td>\n",
              "      <td>1</td>\n",
              "      <td>0</td>\n",
              "      <td>53.1000</td>\n",
              "      <td>S</td>\n",
              "      <td>2</td>\n",
              "      <td>0</td>\n",
              "      <td>Mr</td>\n",
              "      <td>(31.0, 512.329]</td>\n",
              "      <td>(16.0, 32.0]</td>\n",
              "    </tr>\n",
              "    <tr>\n",
              "      <th>757</th>\n",
              "      <td>0</td>\n",
              "      <td>2</td>\n",
              "      <td>Bailey, Mr. Percy Andrew</td>\n",
              "      <td>male</td>\n",
              "      <td>18.0</td>\n",
              "      <td>0</td>\n",
              "      <td>0</td>\n",
              "      <td>11.5000</td>\n",
              "      <td>S</td>\n",
              "      <td>1</td>\n",
              "      <td>1</td>\n",
              "      <td>Mr</td>\n",
              "      <td>(7.91, 14.454]</td>\n",
              "      <td>(16.0, 32.0]</td>\n",
              "    </tr>\n",
              "    <tr>\n",
              "      <th>397</th>\n",
              "      <td>0</td>\n",
              "      <td>2</td>\n",
              "      <td>McKane, Mr. Peter David</td>\n",
              "      <td>male</td>\n",
              "      <td>46.0</td>\n",
              "      <td>0</td>\n",
              "      <td>0</td>\n",
              "      <td>26.0000</td>\n",
              "      <td>S</td>\n",
              "      <td>1</td>\n",
              "      <td>1</td>\n",
              "      <td>Mr</td>\n",
              "      <td>(14.454, 31.0]</td>\n",
              "      <td>(32.0, 48.0]</td>\n",
              "    </tr>\n",
              "  </tbody>\n",
              "</table>\n",
              "</div>"
            ],
            "text/plain": [
              "     Survived  Pclass                          Name     Sex   Age  SibSp  \\\n",
              "727         1       3      Mannion, Miss. Margareth  female  28.0      0   \n",
              "17          1       2  Williams, Mr. Charles Eugene    male  28.0      0   \n",
              "797         1       3              Osman, Mrs. Mara  female  31.0      0   \n",
              "815         0       1              Fry, Mr. Richard    male  28.0      0   \n",
              "744         1       3            Stranden, Mr. Juho    male  31.0      0   \n",
              "597         0       3           Johnson, Mr. Alfred    male  49.0      0   \n",
              "625         0       1         Sutton, Mr. Frederick    male  61.0      0   \n",
              "748         0       1     Marvin, Mr. Daniel Warner    male  19.0      1   \n",
              "757         0       2      Bailey, Mr. Percy Andrew    male  18.0      0   \n",
              "397         0       2       McKane, Mr. Peter David    male  46.0      0   \n",
              "\n",
              "     Parch     Fare Embarked  FamilySize  IsAlone Title          FareBin  \\\n",
              "727      0   7.7375        Q           1        1  Miss   (-0.001, 7.91]   \n",
              "17       0  13.0000        S           1        1    Mr   (7.91, 14.454]   \n",
              "797      0   8.6833        S           1        1   Mrs   (7.91, 14.454]   \n",
              "815      0   0.0000        S           1        1    Mr   (-0.001, 7.91]   \n",
              "744      0   7.9250        S           1        1    Mr   (7.91, 14.454]   \n",
              "597      0   0.0000        S           1        1    Mr   (-0.001, 7.91]   \n",
              "625      0  32.3208        S           1        1    Mr  (31.0, 512.329]   \n",
              "748      0  53.1000        S           2        0    Mr  (31.0, 512.329]   \n",
              "757      0  11.5000        S           1        1    Mr   (7.91, 14.454]   \n",
              "397      0  26.0000        S           1        1    Mr   (14.454, 31.0]   \n",
              "\n",
              "           AgeBin  \n",
              "727  (16.0, 32.0]  \n",
              "17   (16.0, 32.0]  \n",
              "797  (16.0, 32.0]  \n",
              "815  (16.0, 32.0]  \n",
              "744  (16.0, 32.0]  \n",
              "597  (48.0, 64.0]  \n",
              "625  (48.0, 64.0]  \n",
              "748  (16.0, 32.0]  \n",
              "757  (16.0, 32.0]  \n",
              "397  (32.0, 48.0]  "
            ]
          },
          "metadata": {
            "tags": []
          },
          "execution_count": 28
        }
      ]
    },
    {
      "metadata": {
        "id": "Pd0MtJQGwY1b",
        "colab_type": "text"
      },
      "cell_type": "markdown",
      "source": [
        "### 3.23 Convert Formats¶\n",
        "\n",
        "We will convert categorical data to dummy variables for mathematical analysis. There are multiple ways to encode categorical variables; we will use the sklearn and pandas functions."
      ]
    },
    {
      "metadata": {
        "id": "Idp7BSyrv-lo",
        "colab_type": "code",
        "colab": {}
      },
      "cell_type": "code",
      "source": [
        "#CONVERT: convert objects to category using Label Encoder for train and test/validation dataset\n",
        "\n",
        "#code categorical data\n",
        "label = LabelEncoder()\n",
        "for dataset in data_cleaner:    \n",
        "    dataset['Sex_Code'] = label.fit_transform(dataset['Sex'])\n",
        "    dataset['Embarked_Code'] = label.fit_transform(dataset['Embarked'])\n",
        "    dataset['Title_Code'] = label.fit_transform(dataset['Title'])\n",
        "    dataset['AgeBin_Code'] = label.fit_transform(dataset['AgeBin'])\n",
        "    dataset['FareBin_Code'] = label.fit_transform(dataset['FareBin'])"
      ],
      "execution_count": 0,
      "outputs": []
    },
    {
      "metadata": {
        "id": "irC5Ef8IwxDY",
        "colab_type": "code",
        "colab": {}
      },
      "cell_type": "code",
      "source": [
        "#define y variable aka target/outcome\n",
        "Target = ['Survived']"
      ],
      "execution_count": 0,
      "outputs": []
    },
    {
      "metadata": {
        "id": "IATlFSzPxPat",
        "colab_type": "code",
        "colab": {
          "base_uri": "https://localhost:8080/",
          "height": 50
        },
        "outputId": "8bce072d-a6da-4fd8-9923-190c0f597fe5"
      },
      "cell_type": "code",
      "source": [
        "#define x variables for original features aka feature selection\n",
        "data1_x = ['Sex','Pclass', 'Embarked', 'Title','SibSp', 'Parch', 'Age', 'Fare', 'FamilySize', 'IsAlone'] #pretty name/values for charts\n",
        "data1_x_calc = ['Sex_Code','Pclass', 'Embarked_Code', 'Title_Code','SibSp', 'Parch', 'Age', 'Fare'] #coded for algorithm calculation\n",
        "data1_xy =  Target + data1_x\n",
        "print('Original X Y: ', data1_xy, '\\n')"
      ],
      "execution_count": 31,
      "outputs": [
        {
          "output_type": "stream",
          "text": [
            "Original X Y:  ['Survived', 'Sex', 'Pclass', 'Embarked', 'Title', 'SibSp', 'Parch', 'Age', 'Fare', 'FamilySize', 'IsAlone'] \n",
            "\n"
          ],
          "name": "stdout"
        }
      ]
    },
    {
      "metadata": {
        "id": "l2Toe3jaxSkK",
        "colab_type": "code",
        "colab": {
          "base_uri": "https://localhost:8080/",
          "height": 50
        },
        "outputId": "cd6dea73-c0a6-49e6-c44f-4c812b935313"
      },
      "cell_type": "code",
      "source": [
        "#define x variables for original w/bin features to remove continuous variables\n",
        "data1_x_bin = ['Sex_Code','Pclass', 'Embarked_Code', 'Title_Code', 'FamilySize', 'AgeBin_Code', 'FareBin_Code']\n",
        "data1_xy_bin = Target + data1_x_bin\n",
        "print('Bin X Y: ', data1_xy_bin, '\\n')"
      ],
      "execution_count": 32,
      "outputs": [
        {
          "output_type": "stream",
          "text": [
            "Bin X Y:  ['Survived', 'Sex_Code', 'Pclass', 'Embarked_Code', 'Title_Code', 'FamilySize', 'AgeBin_Code', 'FareBin_Code'] \n",
            "\n"
          ],
          "name": "stdout"
        }
      ]
    },
    {
      "metadata": {
        "id": "KSVNjUTVxcmF",
        "colab_type": "code",
        "colab": {
          "base_uri": "https://localhost:8080/",
          "height": 70
        },
        "outputId": "4ee43bea-5a2a-4583-f4f0-461667e038fd"
      },
      "cell_type": "code",
      "source": [
        "#define x and y variables for dummy features original\n",
        "data1_dummy = pd.get_dummies(data1[data1_x])\n",
        "data1_x_dummy = data1_dummy.columns.tolist()\n",
        "data1_xy_dummy = Target + data1_x_dummy\n",
        "print('Dummy X Y: ', data1_xy_dummy, '\\n')"
      ],
      "execution_count": 33,
      "outputs": [
        {
          "output_type": "stream",
          "text": [
            "Dummy X Y:  ['Survived', 'Pclass', 'SibSp', 'Parch', 'Age', 'Fare', 'FamilySize', 'IsAlone', 'Sex_female', 'Sex_male', 'Embarked_C', 'Embarked_Q', 'Embarked_S', 'Title_Master', 'Title_Misc', 'Title_Miss', 'Title_Mr', 'Title_Mrs'] \n",
            "\n"
          ],
          "name": "stdout"
        }
      ]
    },
    {
      "metadata": {
        "id": "Khhde78DxlX4",
        "colab_type": "code",
        "colab": {
          "base_uri": "https://localhost:8080/",
          "height": 215
        },
        "outputId": "8e136482-de9c-4e19-c406-1190b5ac429d"
      },
      "cell_type": "code",
      "source": [
        "data1_dummy.head()"
      ],
      "execution_count": 34,
      "outputs": [
        {
          "output_type": "execute_result",
          "data": {
            "text/html": [
              "<div>\n",
              "<style scoped>\n",
              "    .dataframe tbody tr th:only-of-type {\n",
              "        vertical-align: middle;\n",
              "    }\n",
              "\n",
              "    .dataframe tbody tr th {\n",
              "        vertical-align: top;\n",
              "    }\n",
              "\n",
              "    .dataframe thead th {\n",
              "        text-align: right;\n",
              "    }\n",
              "</style>\n",
              "<table border=\"1\" class=\"dataframe\">\n",
              "  <thead>\n",
              "    <tr style=\"text-align: right;\">\n",
              "      <th></th>\n",
              "      <th>Pclass</th>\n",
              "      <th>SibSp</th>\n",
              "      <th>Parch</th>\n",
              "      <th>Age</th>\n",
              "      <th>Fare</th>\n",
              "      <th>FamilySize</th>\n",
              "      <th>IsAlone</th>\n",
              "      <th>Sex_female</th>\n",
              "      <th>Sex_male</th>\n",
              "      <th>Embarked_C</th>\n",
              "      <th>Embarked_Q</th>\n",
              "      <th>Embarked_S</th>\n",
              "      <th>Title_Master</th>\n",
              "      <th>Title_Misc</th>\n",
              "      <th>Title_Miss</th>\n",
              "      <th>Title_Mr</th>\n",
              "      <th>Title_Mrs</th>\n",
              "    </tr>\n",
              "  </thead>\n",
              "  <tbody>\n",
              "    <tr>\n",
              "      <th>0</th>\n",
              "      <td>3</td>\n",
              "      <td>1</td>\n",
              "      <td>0</td>\n",
              "      <td>22.0</td>\n",
              "      <td>7.2500</td>\n",
              "      <td>2</td>\n",
              "      <td>0</td>\n",
              "      <td>0</td>\n",
              "      <td>1</td>\n",
              "      <td>0</td>\n",
              "      <td>0</td>\n",
              "      <td>1</td>\n",
              "      <td>0</td>\n",
              "      <td>0</td>\n",
              "      <td>0</td>\n",
              "      <td>1</td>\n",
              "      <td>0</td>\n",
              "    </tr>\n",
              "    <tr>\n",
              "      <th>1</th>\n",
              "      <td>1</td>\n",
              "      <td>1</td>\n",
              "      <td>0</td>\n",
              "      <td>38.0</td>\n",
              "      <td>71.2833</td>\n",
              "      <td>2</td>\n",
              "      <td>0</td>\n",
              "      <td>1</td>\n",
              "      <td>0</td>\n",
              "      <td>1</td>\n",
              "      <td>0</td>\n",
              "      <td>0</td>\n",
              "      <td>0</td>\n",
              "      <td>0</td>\n",
              "      <td>0</td>\n",
              "      <td>0</td>\n",
              "      <td>1</td>\n",
              "    </tr>\n",
              "    <tr>\n",
              "      <th>2</th>\n",
              "      <td>3</td>\n",
              "      <td>0</td>\n",
              "      <td>0</td>\n",
              "      <td>26.0</td>\n",
              "      <td>7.9250</td>\n",
              "      <td>1</td>\n",
              "      <td>1</td>\n",
              "      <td>1</td>\n",
              "      <td>0</td>\n",
              "      <td>0</td>\n",
              "      <td>0</td>\n",
              "      <td>1</td>\n",
              "      <td>0</td>\n",
              "      <td>0</td>\n",
              "      <td>1</td>\n",
              "      <td>0</td>\n",
              "      <td>0</td>\n",
              "    </tr>\n",
              "    <tr>\n",
              "      <th>3</th>\n",
              "      <td>1</td>\n",
              "      <td>1</td>\n",
              "      <td>0</td>\n",
              "      <td>35.0</td>\n",
              "      <td>53.1000</td>\n",
              "      <td>2</td>\n",
              "      <td>0</td>\n",
              "      <td>1</td>\n",
              "      <td>0</td>\n",
              "      <td>0</td>\n",
              "      <td>0</td>\n",
              "      <td>1</td>\n",
              "      <td>0</td>\n",
              "      <td>0</td>\n",
              "      <td>0</td>\n",
              "      <td>0</td>\n",
              "      <td>1</td>\n",
              "    </tr>\n",
              "    <tr>\n",
              "      <th>4</th>\n",
              "      <td>3</td>\n",
              "      <td>0</td>\n",
              "      <td>0</td>\n",
              "      <td>35.0</td>\n",
              "      <td>8.0500</td>\n",
              "      <td>1</td>\n",
              "      <td>1</td>\n",
              "      <td>0</td>\n",
              "      <td>1</td>\n",
              "      <td>0</td>\n",
              "      <td>0</td>\n",
              "      <td>1</td>\n",
              "      <td>0</td>\n",
              "      <td>0</td>\n",
              "      <td>0</td>\n",
              "      <td>1</td>\n",
              "      <td>0</td>\n",
              "    </tr>\n",
              "  </tbody>\n",
              "</table>\n",
              "</div>"
            ],
            "text/plain": [
              "   Pclass  SibSp  Parch   Age     Fare  FamilySize  IsAlone  Sex_female  \\\n",
              "0       3      1      0  22.0   7.2500           2        0           0   \n",
              "1       1      1      0  38.0  71.2833           2        0           1   \n",
              "2       3      0      0  26.0   7.9250           1        1           1   \n",
              "3       1      1      0  35.0  53.1000           2        0           1   \n",
              "4       3      0      0  35.0   8.0500           1        1           0   \n",
              "\n",
              "   Sex_male  Embarked_C  Embarked_Q  Embarked_S  Title_Master  Title_Misc  \\\n",
              "0         1           0           0           1             0           0   \n",
              "1         0           1           0           0             0           0   \n",
              "2         0           0           0           1             0           0   \n",
              "3         0           0           0           1             0           0   \n",
              "4         1           0           0           1             0           0   \n",
              "\n",
              "   Title_Miss  Title_Mr  Title_Mrs  \n",
              "0           0         1          0  \n",
              "1           0         0          1  \n",
              "2           1         0          0  \n",
              "3           0         0          1  \n",
              "4           0         1          0  "
            ]
          },
          "metadata": {
            "tags": []
          },
          "execution_count": 34
        }
      ]
    },
    {
      "metadata": {
        "id": "aCQZA4mwx2Cr",
        "colab_type": "text"
      },
      "cell_type": "markdown",
      "source": [
        "### Double-Check Cleaned Data"
      ]
    },
    {
      "metadata": {
        "id": "thMhaNWOxstH",
        "colab_type": "code",
        "colab": {
          "base_uri": "https://localhost:8080/",
          "height": 2086
        },
        "outputId": "2569d22f-e5f8-4cb8-dab4-4cae184fc1c5"
      },
      "cell_type": "code",
      "source": [
        "print('Train columns with null values: \\n', data1.isnull().sum())\n",
        "print(\"-\"*10)\n",
        "print (data1.info())\n",
        "print(\"-\"*10)\n",
        "\n",
        "print('Test/Validation columns with null values: \\n', data_val.isnull().sum())\n",
        "print(\"-\"*10)\n",
        "print (data_val.info())\n",
        "print(\"-\"*10)\n",
        "\n",
        "data_raw.describe(include = 'all')"
      ],
      "execution_count": 35,
      "outputs": [
        {
          "output_type": "stream",
          "text": [
            "Train columns with null values: \n",
            " Survived         0\n",
            "Pclass           0\n",
            "Name             0\n",
            "Sex              0\n",
            "Age              0\n",
            "SibSp            0\n",
            "Parch            0\n",
            "Fare             0\n",
            "Embarked         0\n",
            "FamilySize       0\n",
            "IsAlone          0\n",
            "Title            0\n",
            "FareBin          0\n",
            "AgeBin           0\n",
            "Sex_Code         0\n",
            "Embarked_Code    0\n",
            "Title_Code       0\n",
            "AgeBin_Code      0\n",
            "FareBin_Code     0\n",
            "dtype: int64\n",
            "----------\n",
            "<class 'pandas.core.frame.DataFrame'>\n",
            "RangeIndex: 891 entries, 0 to 890\n",
            "Data columns (total 19 columns):\n",
            "Survived         891 non-null int64\n",
            "Pclass           891 non-null int64\n",
            "Name             891 non-null object\n",
            "Sex              891 non-null object\n",
            "Age              891 non-null float64\n",
            "SibSp            891 non-null int64\n",
            "Parch            891 non-null int64\n",
            "Fare             891 non-null float64\n",
            "Embarked         891 non-null object\n",
            "FamilySize       891 non-null int64\n",
            "IsAlone          891 non-null int64\n",
            "Title            891 non-null object\n",
            "FareBin          891 non-null category\n",
            "AgeBin           891 non-null category\n",
            "Sex_Code         891 non-null int64\n",
            "Embarked_Code    891 non-null int64\n",
            "Title_Code       891 non-null int64\n",
            "AgeBin_Code      891 non-null int64\n",
            "FareBin_Code     891 non-null int64\n",
            "dtypes: category(2), float64(2), int64(11), object(4)\n",
            "memory usage: 120.3+ KB\n",
            "None\n",
            "----------\n",
            "Test/Validation columns with null values: \n",
            " PassengerId        0\n",
            "Pclass             0\n",
            "Name               0\n",
            "Sex                0\n",
            "Age                0\n",
            "SibSp              0\n",
            "Parch              0\n",
            "Ticket             0\n",
            "Fare               0\n",
            "Cabin            327\n",
            "Embarked           0\n",
            "FamilySize         0\n",
            "IsAlone            0\n",
            "Title              0\n",
            "FareBin            0\n",
            "AgeBin             0\n",
            "Sex_Code           0\n",
            "Embarked_Code      0\n",
            "Title_Code         0\n",
            "AgeBin_Code        0\n",
            "FareBin_Code       0\n",
            "dtype: int64\n",
            "----------\n",
            "<class 'pandas.core.frame.DataFrame'>\n",
            "RangeIndex: 418 entries, 0 to 417\n",
            "Data columns (total 21 columns):\n",
            "PassengerId      418 non-null int64\n",
            "Pclass           418 non-null int64\n",
            "Name             418 non-null object\n",
            "Sex              418 non-null object\n",
            "Age              418 non-null float64\n",
            "SibSp            418 non-null int64\n",
            "Parch            418 non-null int64\n",
            "Ticket           418 non-null object\n",
            "Fare             418 non-null float64\n",
            "Cabin            91 non-null object\n",
            "Embarked         418 non-null object\n",
            "FamilySize       418 non-null int64\n",
            "IsAlone          418 non-null int64\n",
            "Title            418 non-null object\n",
            "FareBin          418 non-null category\n",
            "AgeBin           418 non-null category\n",
            "Sex_Code         418 non-null int64\n",
            "Embarked_Code    418 non-null int64\n",
            "Title_Code       418 non-null int64\n",
            "AgeBin_Code      418 non-null int64\n",
            "FareBin_Code     418 non-null int64\n",
            "dtypes: category(2), float64(2), int64(11), object(6)\n",
            "memory usage: 63.1+ KB\n",
            "None\n",
            "----------\n"
          ],
          "name": "stdout"
        },
        {
          "output_type": "execute_result",
          "data": {
            "text/html": [
              "<div>\n",
              "<style scoped>\n",
              "    .dataframe tbody tr th:only-of-type {\n",
              "        vertical-align: middle;\n",
              "    }\n",
              "\n",
              "    .dataframe tbody tr th {\n",
              "        vertical-align: top;\n",
              "    }\n",
              "\n",
              "    .dataframe thead th {\n",
              "        text-align: right;\n",
              "    }\n",
              "</style>\n",
              "<table border=\"1\" class=\"dataframe\">\n",
              "  <thead>\n",
              "    <tr style=\"text-align: right;\">\n",
              "      <th></th>\n",
              "      <th>PassengerId</th>\n",
              "      <th>Survived</th>\n",
              "      <th>Pclass</th>\n",
              "      <th>Name</th>\n",
              "      <th>Sex</th>\n",
              "      <th>Age</th>\n",
              "      <th>SibSp</th>\n",
              "      <th>Parch</th>\n",
              "      <th>Ticket</th>\n",
              "      <th>Fare</th>\n",
              "      <th>Cabin</th>\n",
              "      <th>Embarked</th>\n",
              "    </tr>\n",
              "  </thead>\n",
              "  <tbody>\n",
              "    <tr>\n",
              "      <th>count</th>\n",
              "      <td>891.000000</td>\n",
              "      <td>891.000000</td>\n",
              "      <td>891.000000</td>\n",
              "      <td>891</td>\n",
              "      <td>891</td>\n",
              "      <td>714.000000</td>\n",
              "      <td>891.000000</td>\n",
              "      <td>891.000000</td>\n",
              "      <td>891</td>\n",
              "      <td>891.000000</td>\n",
              "      <td>204</td>\n",
              "      <td>889</td>\n",
              "    </tr>\n",
              "    <tr>\n",
              "      <th>unique</th>\n",
              "      <td>NaN</td>\n",
              "      <td>NaN</td>\n",
              "      <td>NaN</td>\n",
              "      <td>891</td>\n",
              "      <td>2</td>\n",
              "      <td>NaN</td>\n",
              "      <td>NaN</td>\n",
              "      <td>NaN</td>\n",
              "      <td>681</td>\n",
              "      <td>NaN</td>\n",
              "      <td>147</td>\n",
              "      <td>3</td>\n",
              "    </tr>\n",
              "    <tr>\n",
              "      <th>top</th>\n",
              "      <td>NaN</td>\n",
              "      <td>NaN</td>\n",
              "      <td>NaN</td>\n",
              "      <td>Lahtinen, Mrs. William (Anna Sylfven)</td>\n",
              "      <td>male</td>\n",
              "      <td>NaN</td>\n",
              "      <td>NaN</td>\n",
              "      <td>NaN</td>\n",
              "      <td>1601</td>\n",
              "      <td>NaN</td>\n",
              "      <td>G6</td>\n",
              "      <td>S</td>\n",
              "    </tr>\n",
              "    <tr>\n",
              "      <th>freq</th>\n",
              "      <td>NaN</td>\n",
              "      <td>NaN</td>\n",
              "      <td>NaN</td>\n",
              "      <td>1</td>\n",
              "      <td>577</td>\n",
              "      <td>NaN</td>\n",
              "      <td>NaN</td>\n",
              "      <td>NaN</td>\n",
              "      <td>7</td>\n",
              "      <td>NaN</td>\n",
              "      <td>4</td>\n",
              "      <td>644</td>\n",
              "    </tr>\n",
              "    <tr>\n",
              "      <th>mean</th>\n",
              "      <td>446.000000</td>\n",
              "      <td>0.383838</td>\n",
              "      <td>2.308642</td>\n",
              "      <td>NaN</td>\n",
              "      <td>NaN</td>\n",
              "      <td>29.699118</td>\n",
              "      <td>0.523008</td>\n",
              "      <td>0.381594</td>\n",
              "      <td>NaN</td>\n",
              "      <td>32.204208</td>\n",
              "      <td>NaN</td>\n",
              "      <td>NaN</td>\n",
              "    </tr>\n",
              "    <tr>\n",
              "      <th>std</th>\n",
              "      <td>257.353842</td>\n",
              "      <td>0.486592</td>\n",
              "      <td>0.836071</td>\n",
              "      <td>NaN</td>\n",
              "      <td>NaN</td>\n",
              "      <td>14.526497</td>\n",
              "      <td>1.102743</td>\n",
              "      <td>0.806057</td>\n",
              "      <td>NaN</td>\n",
              "      <td>49.693429</td>\n",
              "      <td>NaN</td>\n",
              "      <td>NaN</td>\n",
              "    </tr>\n",
              "    <tr>\n",
              "      <th>min</th>\n",
              "      <td>1.000000</td>\n",
              "      <td>0.000000</td>\n",
              "      <td>1.000000</td>\n",
              "      <td>NaN</td>\n",
              "      <td>NaN</td>\n",
              "      <td>0.420000</td>\n",
              "      <td>0.000000</td>\n",
              "      <td>0.000000</td>\n",
              "      <td>NaN</td>\n",
              "      <td>0.000000</td>\n",
              "      <td>NaN</td>\n",
              "      <td>NaN</td>\n",
              "    </tr>\n",
              "    <tr>\n",
              "      <th>25%</th>\n",
              "      <td>223.500000</td>\n",
              "      <td>0.000000</td>\n",
              "      <td>2.000000</td>\n",
              "      <td>NaN</td>\n",
              "      <td>NaN</td>\n",
              "      <td>20.125000</td>\n",
              "      <td>0.000000</td>\n",
              "      <td>0.000000</td>\n",
              "      <td>NaN</td>\n",
              "      <td>7.910400</td>\n",
              "      <td>NaN</td>\n",
              "      <td>NaN</td>\n",
              "    </tr>\n",
              "    <tr>\n",
              "      <th>50%</th>\n",
              "      <td>446.000000</td>\n",
              "      <td>0.000000</td>\n",
              "      <td>3.000000</td>\n",
              "      <td>NaN</td>\n",
              "      <td>NaN</td>\n",
              "      <td>28.000000</td>\n",
              "      <td>0.000000</td>\n",
              "      <td>0.000000</td>\n",
              "      <td>NaN</td>\n",
              "      <td>14.454200</td>\n",
              "      <td>NaN</td>\n",
              "      <td>NaN</td>\n",
              "    </tr>\n",
              "    <tr>\n",
              "      <th>75%</th>\n",
              "      <td>668.500000</td>\n",
              "      <td>1.000000</td>\n",
              "      <td>3.000000</td>\n",
              "      <td>NaN</td>\n",
              "      <td>NaN</td>\n",
              "      <td>38.000000</td>\n",
              "      <td>1.000000</td>\n",
              "      <td>0.000000</td>\n",
              "      <td>NaN</td>\n",
              "      <td>31.000000</td>\n",
              "      <td>NaN</td>\n",
              "      <td>NaN</td>\n",
              "    </tr>\n",
              "    <tr>\n",
              "      <th>max</th>\n",
              "      <td>891.000000</td>\n",
              "      <td>1.000000</td>\n",
              "      <td>3.000000</td>\n",
              "      <td>NaN</td>\n",
              "      <td>NaN</td>\n",
              "      <td>80.000000</td>\n",
              "      <td>8.000000</td>\n",
              "      <td>6.000000</td>\n",
              "      <td>NaN</td>\n",
              "      <td>512.329200</td>\n",
              "      <td>NaN</td>\n",
              "      <td>NaN</td>\n",
              "    </tr>\n",
              "  </tbody>\n",
              "</table>\n",
              "</div>"
            ],
            "text/plain": [
              "        PassengerId    Survived      Pclass  \\\n",
              "count    891.000000  891.000000  891.000000   \n",
              "unique          NaN         NaN         NaN   \n",
              "top             NaN         NaN         NaN   \n",
              "freq            NaN         NaN         NaN   \n",
              "mean     446.000000    0.383838    2.308642   \n",
              "std      257.353842    0.486592    0.836071   \n",
              "min        1.000000    0.000000    1.000000   \n",
              "25%      223.500000    0.000000    2.000000   \n",
              "50%      446.000000    0.000000    3.000000   \n",
              "75%      668.500000    1.000000    3.000000   \n",
              "max      891.000000    1.000000    3.000000   \n",
              "\n",
              "                                         Name   Sex         Age       SibSp  \\\n",
              "count                                     891   891  714.000000  891.000000   \n",
              "unique                                    891     2         NaN         NaN   \n",
              "top     Lahtinen, Mrs. William (Anna Sylfven)  male         NaN         NaN   \n",
              "freq                                        1   577         NaN         NaN   \n",
              "mean                                      NaN   NaN   29.699118    0.523008   \n",
              "std                                       NaN   NaN   14.526497    1.102743   \n",
              "min                                       NaN   NaN    0.420000    0.000000   \n",
              "25%                                       NaN   NaN   20.125000    0.000000   \n",
              "50%                                       NaN   NaN   28.000000    0.000000   \n",
              "75%                                       NaN   NaN   38.000000    1.000000   \n",
              "max                                       NaN   NaN   80.000000    8.000000   \n",
              "\n",
              "             Parch Ticket        Fare Cabin Embarked  \n",
              "count   891.000000    891  891.000000   204      889  \n",
              "unique         NaN    681         NaN   147        3  \n",
              "top            NaN   1601         NaN    G6        S  \n",
              "freq           NaN      7         NaN     4      644  \n",
              "mean      0.381594    NaN   32.204208   NaN      NaN  \n",
              "std       0.806057    NaN   49.693429   NaN      NaN  \n",
              "min       0.000000    NaN    0.000000   NaN      NaN  \n",
              "25%       0.000000    NaN    7.910400   NaN      NaN  \n",
              "50%       0.000000    NaN   14.454200   NaN      NaN  \n",
              "75%       0.000000    NaN   31.000000   NaN      NaN  \n",
              "max       6.000000    NaN  512.329200   NaN      NaN  "
            ]
          },
          "metadata": {
            "tags": []
          },
          "execution_count": 35
        }
      ]
    },
    {
      "metadata": {
        "id": "c4mVOaBvyZi9",
        "colab_type": "text"
      },
      "cell_type": "markdown",
      "source": [
        "## Split Training and Testing Data"
      ]
    },
    {
      "metadata": {
        "id": "SfdG5YxYyFnR",
        "colab_type": "code",
        "colab": {
          "base_uri": "https://localhost:8080/",
          "height": 246
        },
        "outputId": "aec64045-edf2-4fe5-f42d-66232b6b35f4"
      },
      "cell_type": "code",
      "source": [
        "#split train and test data with function defaults\n",
        "#random_state -> seed or control random number generator: https://www.quora.com/What-is-seed-in-random-number-generation\n",
        "train1_x, test1_x, train1_y, test1_y = model_selection.train_test_split(data1[data1_x_calc], data1[Target], random_state = 0)\n",
        "train1_x_bin, test1_x_bin, train1_y_bin, test1_y_bin = model_selection.train_test_split(data1[data1_x_bin], data1[Target] , random_state = 0)\n",
        "train1_x_dummy, test1_x_dummy, train1_y_dummy, test1_y_dummy = model_selection.train_test_split(data1_dummy[data1_x_dummy], data1[Target], random_state = 0)\n",
        "\n",
        "\n",
        "print(\"Data1 Shape: {}\".format(data1.shape))\n",
        "print(\"Train1 Shape: {}\".format(train1_x.shape))\n",
        "print(\"Test1 Shape: {}\".format(test1_x.shape))\n",
        "\n",
        "train1_x_bin.head()"
      ],
      "execution_count": 36,
      "outputs": [
        {
          "output_type": "stream",
          "text": [
            "Data1 Shape: (891, 19)\n",
            "Train1 Shape: (668, 8)\n",
            "Test1 Shape: (223, 8)\n"
          ],
          "name": "stdout"
        },
        {
          "output_type": "execute_result",
          "data": {
            "text/html": [
              "<div>\n",
              "<style scoped>\n",
              "    .dataframe tbody tr th:only-of-type {\n",
              "        vertical-align: middle;\n",
              "    }\n",
              "\n",
              "    .dataframe tbody tr th {\n",
              "        vertical-align: top;\n",
              "    }\n",
              "\n",
              "    .dataframe thead th {\n",
              "        text-align: right;\n",
              "    }\n",
              "</style>\n",
              "<table border=\"1\" class=\"dataframe\">\n",
              "  <thead>\n",
              "    <tr style=\"text-align: right;\">\n",
              "      <th></th>\n",
              "      <th>Sex_Code</th>\n",
              "      <th>Pclass</th>\n",
              "      <th>Embarked_Code</th>\n",
              "      <th>Title_Code</th>\n",
              "      <th>FamilySize</th>\n",
              "      <th>AgeBin_Code</th>\n",
              "      <th>FareBin_Code</th>\n",
              "    </tr>\n",
              "  </thead>\n",
              "  <tbody>\n",
              "    <tr>\n",
              "      <th>105</th>\n",
              "      <td>1</td>\n",
              "      <td>3</td>\n",
              "      <td>2</td>\n",
              "      <td>3</td>\n",
              "      <td>1</td>\n",
              "      <td>1</td>\n",
              "      <td>0</td>\n",
              "    </tr>\n",
              "    <tr>\n",
              "      <th>68</th>\n",
              "      <td>0</td>\n",
              "      <td>3</td>\n",
              "      <td>2</td>\n",
              "      <td>2</td>\n",
              "      <td>7</td>\n",
              "      <td>1</td>\n",
              "      <td>1</td>\n",
              "    </tr>\n",
              "    <tr>\n",
              "      <th>253</th>\n",
              "      <td>1</td>\n",
              "      <td>3</td>\n",
              "      <td>2</td>\n",
              "      <td>3</td>\n",
              "      <td>2</td>\n",
              "      <td>1</td>\n",
              "      <td>2</td>\n",
              "    </tr>\n",
              "    <tr>\n",
              "      <th>320</th>\n",
              "      <td>1</td>\n",
              "      <td>3</td>\n",
              "      <td>2</td>\n",
              "      <td>3</td>\n",
              "      <td>1</td>\n",
              "      <td>1</td>\n",
              "      <td>0</td>\n",
              "    </tr>\n",
              "    <tr>\n",
              "      <th>706</th>\n",
              "      <td>0</td>\n",
              "      <td>2</td>\n",
              "      <td>2</td>\n",
              "      <td>4</td>\n",
              "      <td>1</td>\n",
              "      <td>2</td>\n",
              "      <td>1</td>\n",
              "    </tr>\n",
              "  </tbody>\n",
              "</table>\n",
              "</div>"
            ],
            "text/plain": [
              "     Sex_Code  Pclass  Embarked_Code  Title_Code  FamilySize  AgeBin_Code  \\\n",
              "105         1       3              2           3           1            1   \n",
              "68          0       3              2           2           7            1   \n",
              "253         1       3              2           3           2            1   \n",
              "320         1       3              2           3           1            1   \n",
              "706         0       2              2           4           1            2   \n",
              "\n",
              "     FareBin_Code  \n",
              "105             0  \n",
              "68              1  \n",
              "253             2  \n",
              "320             0  \n",
              "706             1  "
            ]
          },
          "metadata": {
            "tags": []
          },
          "execution_count": 36
        }
      ]
    },
    {
      "metadata": {
        "id": "-_zkzwGryedf",
        "colab_type": "code",
        "colab": {}
      },
      "cell_type": "code",
      "source": [
        ""
      ],
      "execution_count": 0,
      "outputs": []
    }
  ]
}